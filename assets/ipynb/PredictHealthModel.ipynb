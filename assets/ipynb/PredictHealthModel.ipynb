{
  "nbformat": 4,
  "nbformat_minor": 0,
  "metadata": {
    "colab": {
      "provenance": []
    },
    "kernelspec": {
      "name": "python3",
      "display_name": "Python 3"
    },
    "language_info": {
      "name": "python"
    }
  },
  "cells": [
    {
      "cell_type": "code",
      "source": [
        "from google.colab import drive\n",
        "drive.mount('/content/drive')"
      ],
      "metadata": {
        "id": "-0xyRS3ltY5r",
        "colab": {
          "base_uri": "https://localhost:8080/"
        },
        "outputId": "38f9fff8-1faa-4444-8f0a-64c51400e17b"
      },
      "execution_count": 14,
      "outputs": [
        {
          "output_type": "stream",
          "name": "stdout",
          "text": [
            "Drive already mounted at /content/drive; to attempt to forcibly remount, call drive.mount(\"/content/drive\", force_remount=True).\n"
          ]
        }
      ]
    },
    {
      "cell_type": "code",
      "execution_count": 15,
      "metadata": {
        "id": "49Staw077rT2"
      },
      "outputs": [],
      "source": [
        "import os\n",
        "import shutil"
      ]
    },
    {
      "cell_type": "code",
      "source": [
        "dataset_drive_path = '/content/drive/MyDrive/Smart-Agriculture-System/'\n",
        "# dataset_drive_path = '/content/drive/MyDrive/IT_Project/'"
      ],
      "metadata": {
        "id": "ZjUxwuB37sz4"
      },
      "execution_count": 16,
      "outputs": []
    },
    {
      "cell_type": "code",
      "source": [
        "name = 'agriculture_sensors_minute_based.csv'\n",
        "# name = 'agriculture_sensors_.csv'\n",
        "drive_path = dataset_drive_path + name\n",
        "print(drive_path)\n",
        "\n",
        "if os.path.exists(drive_path):\n",
        "  shutil.copy(drive_path, './')"
      ],
      "metadata": {
        "colab": {
          "base_uri": "https://localhost:8080/"
        },
        "id": "svlRjwNV8C-x",
        "outputId": "1c7c0839-8e06-4441-a62f-84e9ddcf1721"
      },
      "execution_count": 17,
      "outputs": [
        {
          "output_type": "stream",
          "name": "stdout",
          "text": [
            "/content/drive/MyDrive/Smart-Agriculture-System/agriculture_sensors_minute_based.csv\n"
          ]
        }
      ]
    },
    {
      "cell_type": "code",
      "source": [
        "import pandas as pd\n",
        "import numpy as np\n",
        "import matplotlib.pyplot as plt\n",
        "import shap\n",
        "import seaborn as sns\n",
        "import tensorflow as tf\n",
        "from tensorflow import keras\n",
        "from sklearn.model_selection import train_test_split\n",
        "from sklearn.preprocessing import StandardScaler\n",
        "from sklearn.ensemble import RandomForestClassifier\n",
        "from sklearn.metrics import accuracy_score, classification_report"
      ],
      "metadata": {
        "id": "IrzhsLD48E1E"
      },
      "execution_count": 18,
      "outputs": []
    },
    {
      "cell_type": "code",
      "source": [
        "df = pd.read_csv(drive_path)\n",
        "\n",
        "# Display basic information about the dataset\n",
        "print(df.head())\n",
        "print(df.info())"
      ],
      "metadata": {
        "colab": {
          "base_uri": "https://localhost:8080/"
        },
        "id": "VCgvNLMG8Giz",
        "outputId": "b5693a04-5a83-4d69-c5eb-978ebe0855c0"
      },
      "execution_count": 19,
      "outputs": [
        {
          "output_type": "stream",
          "name": "stdout",
          "text": [
            "                        _id  humidity  temperature    light  soilMoisture  \\\n",
            "0  676d883c60a666999f426d6c     74.43        29.44  1771.95   2068.816531   \n",
            "1  676d887960a666999f426d6e     74.80        29.59  1721.00   2123.848753   \n",
            "2  676d88b660a666999f426d70     74.00        30.42  1990.15   1962.874345   \n",
            "3  676d88f360a666999f426d72     74.00        30.44  1870.03   2072.463729   \n",
            "4  676d893060a666999f426d74     73.97        30.46  1889.67   2058.482137   \n",
            "\n",
            "    rainVolume  gasVolume                   fieldId                 createdAt  \\\n",
            "0  4095.000000      188.0  676d4559c3b9d9d8e1ac5828  2024-12-26T16:45:48.539Z   \n",
            "1  4095.000000      168.0  676d4559c3b9d9d8e1ac5828  2024-12-26T16:46:49.714Z   \n",
            "2  4095.000000      167.0  676d4559c3b9d9d8e1ac5828  2024-12-26T16:47:50.741Z   \n",
            "3  3977.576096      166.0  676d4559c3b9d9d8e1ac5828  2024-12-26T16:48:51.876Z   \n",
            "4  4075.465112      163.0  676d4559c3b9d9d8e1ac5828  2024-12-26T16:49:52.998Z   \n",
            "\n",
            "                  updatedAt  __v                   addedAt  \n",
            "0  2025-01-07T10:04:48.522Z    0  2024-12-26T23:45:48.539Z  \n",
            "1  2025-01-07T10:04:48.522Z    0  2024-12-26T23:46:49.714Z  \n",
            "2  2025-01-07T10:04:48.522Z    0  2024-12-26T23:47:50.741Z  \n",
            "3  2025-01-07T10:04:48.522Z    0  2024-12-26T23:48:51.876Z  \n",
            "4  2025-01-07T10:04:48.522Z    0  2024-12-26T23:49:52.998Z  \n",
            "<class 'pandas.core.frame.DataFrame'>\n",
            "RangeIndex: 32799 entries, 0 to 32798\n",
            "Data columns (total 12 columns):\n",
            " #   Column        Non-Null Count  Dtype  \n",
            "---  ------        --------------  -----  \n",
            " 0   _id           32799 non-null  object \n",
            " 1   humidity      32792 non-null  float64\n",
            " 2   temperature   32792 non-null  float64\n",
            " 3   light         32792 non-null  float64\n",
            " 4   soilMoisture  32799 non-null  float64\n",
            " 5   rainVolume    32799 non-null  float64\n",
            " 6   gasVolume     32792 non-null  float64\n",
            " 7   fieldId       32798 non-null  object \n",
            " 8   createdAt     32799 non-null  object \n",
            " 9   updatedAt     32799 non-null  object \n",
            " 10  __v           32799 non-null  int64  \n",
            " 11  addedAt       32668 non-null  object \n",
            "dtypes: float64(6), int64(1), object(5)\n",
            "memory usage: 3.0+ MB\n",
            "None\n"
          ]
        }
      ]
    },
    {
      "cell_type": "code",
      "source": [
        "df = df.dropna()"
      ],
      "metadata": {
        "id": "jj2c_UfZ9B04"
      },
      "execution_count": 20,
      "outputs": []
    },
    {
      "cell_type": "code",
      "source": [
        "# -------------------------------\n",
        "# Add a new column: plant_health\n",
        "# Rule: Healthy (1) if humidity in [73, 75], temperature in [29, 31],\n",
        "# soilMoisture >= 2050, and light >= 1000; otherwise not healthy (0).\n",
        "# Adjust these thresholds based on your domain knowledge.\n",
        "def determine_health(row):\n",
        "    if (50 <= row['humidity'] <= 80) and (23 <= row['temperature'] <= 31) and (1000 <= row['soilMoisture'] <= 4000) :\n",
        "        return 1\n",
        "    else:\n",
        "        return 0\n",
        "\n",
        "df['plant_health'] = df.apply(determine_health, axis=1)\n",
        "print(\"After adding plant_health:\")\n",
        "print(df[['humidity', 'temperature', 'light', 'soilMoisture', 'plant_health']].head())"
      ],
      "metadata": {
        "colab": {
          "base_uri": "https://localhost:8080/"
        },
        "id": "UNdJo8FF9iiL",
        "outputId": "aa19c752-238b-4de6-f4cd-4de2e3fe7f72"
      },
      "execution_count": 21,
      "outputs": [
        {
          "output_type": "stream",
          "name": "stdout",
          "text": [
            "After adding plant_health:\n",
            "   humidity  temperature    light  soilMoisture  plant_health\n",
            "0     74.43        29.44  1771.95   2068.816531             1\n",
            "1     74.80        29.59  1721.00   2123.848753             1\n",
            "2     74.00        30.42  1990.15   1962.874345             1\n",
            "3     74.00        30.44  1870.03   2072.463729             1\n",
            "4     73.97        30.46  1889.67   2058.482137             1\n"
          ]
        }
      ]
    },
    {
      "cell_type": "code",
      "source": [
        "print(df['plant_health'].value_counts())  # Check the count of 0s and 1s"
      ],
      "metadata": {
        "colab": {
          "base_uri": "https://localhost:8080/"
        },
        "id": "busyPgt_-CGw",
        "outputId": "394d6ca3-2b50-4a03-d415-8353af5f42e5"
      },
      "execution_count": 22,
      "outputs": [
        {
          "output_type": "stream",
          "name": "stdout",
          "text": [
            "plant_health\n",
            "0    16505\n",
            "1    16156\n",
            "Name: count, dtype: int64\n"
          ]
        }
      ]
    },
    {
      "cell_type": "code",
      "source": [
        "df.head()"
      ],
      "metadata": {
        "colab": {
          "base_uri": "https://localhost:8080/",
          "height": 313
        },
        "id": "l1vEki8wCJB2",
        "outputId": "fc1627bf-04f1-4883-e159-c9b7f3ee5834"
      },
      "execution_count": 23,
      "outputs": [
        {
          "output_type": "execute_result",
          "data": {
            "text/plain": [
              "                        _id  humidity  temperature    light  soilMoisture  \\\n",
              "0  676d883c60a666999f426d6c     74.43        29.44  1771.95   2068.816531   \n",
              "1  676d887960a666999f426d6e     74.80        29.59  1721.00   2123.848753   \n",
              "2  676d88b660a666999f426d70     74.00        30.42  1990.15   1962.874345   \n",
              "3  676d88f360a666999f426d72     74.00        30.44  1870.03   2072.463729   \n",
              "4  676d893060a666999f426d74     73.97        30.46  1889.67   2058.482137   \n",
              "\n",
              "    rainVolume  gasVolume                   fieldId                 createdAt  \\\n",
              "0  4095.000000      188.0  676d4559c3b9d9d8e1ac5828  2024-12-26T16:45:48.539Z   \n",
              "1  4095.000000      168.0  676d4559c3b9d9d8e1ac5828  2024-12-26T16:46:49.714Z   \n",
              "2  4095.000000      167.0  676d4559c3b9d9d8e1ac5828  2024-12-26T16:47:50.741Z   \n",
              "3  3977.576096      166.0  676d4559c3b9d9d8e1ac5828  2024-12-26T16:48:51.876Z   \n",
              "4  4075.465112      163.0  676d4559c3b9d9d8e1ac5828  2024-12-26T16:49:52.998Z   \n",
              "\n",
              "                  updatedAt  __v                   addedAt  plant_health  \n",
              "0  2025-01-07T10:04:48.522Z    0  2024-12-26T23:45:48.539Z             1  \n",
              "1  2025-01-07T10:04:48.522Z    0  2024-12-26T23:46:49.714Z             1  \n",
              "2  2025-01-07T10:04:48.522Z    0  2024-12-26T23:47:50.741Z             1  \n",
              "3  2025-01-07T10:04:48.522Z    0  2024-12-26T23:48:51.876Z             1  \n",
              "4  2025-01-07T10:04:48.522Z    0  2024-12-26T23:49:52.998Z             1  "
            ],
            "text/html": [
              "\n",
              "  <div id=\"df-697e2c63-ec12-4e6d-8fb9-8abc8bafc763\" class=\"colab-df-container\">\n",
              "    <div>\n",
              "<style scoped>\n",
              "    .dataframe tbody tr th:only-of-type {\n",
              "        vertical-align: middle;\n",
              "    }\n",
              "\n",
              "    .dataframe tbody tr th {\n",
              "        vertical-align: top;\n",
              "    }\n",
              "\n",
              "    .dataframe thead th {\n",
              "        text-align: right;\n",
              "    }\n",
              "</style>\n",
              "<table border=\"1\" class=\"dataframe\">\n",
              "  <thead>\n",
              "    <tr style=\"text-align: right;\">\n",
              "      <th></th>\n",
              "      <th>_id</th>\n",
              "      <th>humidity</th>\n",
              "      <th>temperature</th>\n",
              "      <th>light</th>\n",
              "      <th>soilMoisture</th>\n",
              "      <th>rainVolume</th>\n",
              "      <th>gasVolume</th>\n",
              "      <th>fieldId</th>\n",
              "      <th>createdAt</th>\n",
              "      <th>updatedAt</th>\n",
              "      <th>__v</th>\n",
              "      <th>addedAt</th>\n",
              "      <th>plant_health</th>\n",
              "    </tr>\n",
              "  </thead>\n",
              "  <tbody>\n",
              "    <tr>\n",
              "      <th>0</th>\n",
              "      <td>676d883c60a666999f426d6c</td>\n",
              "      <td>74.43</td>\n",
              "      <td>29.44</td>\n",
              "      <td>1771.95</td>\n",
              "      <td>2068.816531</td>\n",
              "      <td>4095.000000</td>\n",
              "      <td>188.0</td>\n",
              "      <td>676d4559c3b9d9d8e1ac5828</td>\n",
              "      <td>2024-12-26T16:45:48.539Z</td>\n",
              "      <td>2025-01-07T10:04:48.522Z</td>\n",
              "      <td>0</td>\n",
              "      <td>2024-12-26T23:45:48.539Z</td>\n",
              "      <td>1</td>\n",
              "    </tr>\n",
              "    <tr>\n",
              "      <th>1</th>\n",
              "      <td>676d887960a666999f426d6e</td>\n",
              "      <td>74.80</td>\n",
              "      <td>29.59</td>\n",
              "      <td>1721.00</td>\n",
              "      <td>2123.848753</td>\n",
              "      <td>4095.000000</td>\n",
              "      <td>168.0</td>\n",
              "      <td>676d4559c3b9d9d8e1ac5828</td>\n",
              "      <td>2024-12-26T16:46:49.714Z</td>\n",
              "      <td>2025-01-07T10:04:48.522Z</td>\n",
              "      <td>0</td>\n",
              "      <td>2024-12-26T23:46:49.714Z</td>\n",
              "      <td>1</td>\n",
              "    </tr>\n",
              "    <tr>\n",
              "      <th>2</th>\n",
              "      <td>676d88b660a666999f426d70</td>\n",
              "      <td>74.00</td>\n",
              "      <td>30.42</td>\n",
              "      <td>1990.15</td>\n",
              "      <td>1962.874345</td>\n",
              "      <td>4095.000000</td>\n",
              "      <td>167.0</td>\n",
              "      <td>676d4559c3b9d9d8e1ac5828</td>\n",
              "      <td>2024-12-26T16:47:50.741Z</td>\n",
              "      <td>2025-01-07T10:04:48.522Z</td>\n",
              "      <td>0</td>\n",
              "      <td>2024-12-26T23:47:50.741Z</td>\n",
              "      <td>1</td>\n",
              "    </tr>\n",
              "    <tr>\n",
              "      <th>3</th>\n",
              "      <td>676d88f360a666999f426d72</td>\n",
              "      <td>74.00</td>\n",
              "      <td>30.44</td>\n",
              "      <td>1870.03</td>\n",
              "      <td>2072.463729</td>\n",
              "      <td>3977.576096</td>\n",
              "      <td>166.0</td>\n",
              "      <td>676d4559c3b9d9d8e1ac5828</td>\n",
              "      <td>2024-12-26T16:48:51.876Z</td>\n",
              "      <td>2025-01-07T10:04:48.522Z</td>\n",
              "      <td>0</td>\n",
              "      <td>2024-12-26T23:48:51.876Z</td>\n",
              "      <td>1</td>\n",
              "    </tr>\n",
              "    <tr>\n",
              "      <th>4</th>\n",
              "      <td>676d893060a666999f426d74</td>\n",
              "      <td>73.97</td>\n",
              "      <td>30.46</td>\n",
              "      <td>1889.67</td>\n",
              "      <td>2058.482137</td>\n",
              "      <td>4075.465112</td>\n",
              "      <td>163.0</td>\n",
              "      <td>676d4559c3b9d9d8e1ac5828</td>\n",
              "      <td>2024-12-26T16:49:52.998Z</td>\n",
              "      <td>2025-01-07T10:04:48.522Z</td>\n",
              "      <td>0</td>\n",
              "      <td>2024-12-26T23:49:52.998Z</td>\n",
              "      <td>1</td>\n",
              "    </tr>\n",
              "  </tbody>\n",
              "</table>\n",
              "</div>\n",
              "    <div class=\"colab-df-buttons\">\n",
              "\n",
              "  <div class=\"colab-df-container\">\n",
              "    <button class=\"colab-df-convert\" onclick=\"convertToInteractive('df-697e2c63-ec12-4e6d-8fb9-8abc8bafc763')\"\n",
              "            title=\"Convert this dataframe to an interactive table.\"\n",
              "            style=\"display:none;\">\n",
              "\n",
              "  <svg xmlns=\"http://www.w3.org/2000/svg\" height=\"24px\" viewBox=\"0 -960 960 960\">\n",
              "    <path d=\"M120-120v-720h720v720H120Zm60-500h600v-160H180v160Zm220 220h160v-160H400v160Zm0 220h160v-160H400v160ZM180-400h160v-160H180v160Zm440 0h160v-160H620v160ZM180-180h160v-160H180v160Zm440 0h160v-160H620v160Z\"/>\n",
              "  </svg>\n",
              "    </button>\n",
              "\n",
              "  <style>\n",
              "    .colab-df-container {\n",
              "      display:flex;\n",
              "      gap: 12px;\n",
              "    }\n",
              "\n",
              "    .colab-df-convert {\n",
              "      background-color: #E8F0FE;\n",
              "      border: none;\n",
              "      border-radius: 50%;\n",
              "      cursor: pointer;\n",
              "      display: none;\n",
              "      fill: #1967D2;\n",
              "      height: 32px;\n",
              "      padding: 0 0 0 0;\n",
              "      width: 32px;\n",
              "    }\n",
              "\n",
              "    .colab-df-convert:hover {\n",
              "      background-color: #E2EBFA;\n",
              "      box-shadow: 0px 1px 2px rgba(60, 64, 67, 0.3), 0px 1px 3px 1px rgba(60, 64, 67, 0.15);\n",
              "      fill: #174EA6;\n",
              "    }\n",
              "\n",
              "    .colab-df-buttons div {\n",
              "      margin-bottom: 4px;\n",
              "    }\n",
              "\n",
              "    [theme=dark] .colab-df-convert {\n",
              "      background-color: #3B4455;\n",
              "      fill: #D2E3FC;\n",
              "    }\n",
              "\n",
              "    [theme=dark] .colab-df-convert:hover {\n",
              "      background-color: #434B5C;\n",
              "      box-shadow: 0px 1px 3px 1px rgba(0, 0, 0, 0.15);\n",
              "      filter: drop-shadow(0px 1px 2px rgba(0, 0, 0, 0.3));\n",
              "      fill: #FFFFFF;\n",
              "    }\n",
              "  </style>\n",
              "\n",
              "    <script>\n",
              "      const buttonEl =\n",
              "        document.querySelector('#df-697e2c63-ec12-4e6d-8fb9-8abc8bafc763 button.colab-df-convert');\n",
              "      buttonEl.style.display =\n",
              "        google.colab.kernel.accessAllowed ? 'block' : 'none';\n",
              "\n",
              "      async function convertToInteractive(key) {\n",
              "        const element = document.querySelector('#df-697e2c63-ec12-4e6d-8fb9-8abc8bafc763');\n",
              "        const dataTable =\n",
              "          await google.colab.kernel.invokeFunction('convertToInteractive',\n",
              "                                                    [key], {});\n",
              "        if (!dataTable) return;\n",
              "\n",
              "        const docLinkHtml = 'Like what you see? Visit the ' +\n",
              "          '<a target=\"_blank\" href=https://colab.research.google.com/notebooks/data_table.ipynb>data table notebook</a>'\n",
              "          + ' to learn more about interactive tables.';\n",
              "        element.innerHTML = '';\n",
              "        dataTable['output_type'] = 'display_data';\n",
              "        await google.colab.output.renderOutput(dataTable, element);\n",
              "        const docLink = document.createElement('div');\n",
              "        docLink.innerHTML = docLinkHtml;\n",
              "        element.appendChild(docLink);\n",
              "      }\n",
              "    </script>\n",
              "  </div>\n",
              "\n",
              "\n",
              "<div id=\"df-cee0afa0-442c-4a6c-9c49-5120adb8eca7\">\n",
              "  <button class=\"colab-df-quickchart\" onclick=\"quickchart('df-cee0afa0-442c-4a6c-9c49-5120adb8eca7')\"\n",
              "            title=\"Suggest charts\"\n",
              "            style=\"display:none;\">\n",
              "\n",
              "<svg xmlns=\"http://www.w3.org/2000/svg\" height=\"24px\"viewBox=\"0 0 24 24\"\n",
              "     width=\"24px\">\n",
              "    <g>\n",
              "        <path d=\"M19 3H5c-1.1 0-2 .9-2 2v14c0 1.1.9 2 2 2h14c1.1 0 2-.9 2-2V5c0-1.1-.9-2-2-2zM9 17H7v-7h2v7zm4 0h-2V7h2v10zm4 0h-2v-4h2v4z\"/>\n",
              "    </g>\n",
              "</svg>\n",
              "  </button>\n",
              "\n",
              "<style>\n",
              "  .colab-df-quickchart {\n",
              "      --bg-color: #E8F0FE;\n",
              "      --fill-color: #1967D2;\n",
              "      --hover-bg-color: #E2EBFA;\n",
              "      --hover-fill-color: #174EA6;\n",
              "      --disabled-fill-color: #AAA;\n",
              "      --disabled-bg-color: #DDD;\n",
              "  }\n",
              "\n",
              "  [theme=dark] .colab-df-quickchart {\n",
              "      --bg-color: #3B4455;\n",
              "      --fill-color: #D2E3FC;\n",
              "      --hover-bg-color: #434B5C;\n",
              "      --hover-fill-color: #FFFFFF;\n",
              "      --disabled-bg-color: #3B4455;\n",
              "      --disabled-fill-color: #666;\n",
              "  }\n",
              "\n",
              "  .colab-df-quickchart {\n",
              "    background-color: var(--bg-color);\n",
              "    border: none;\n",
              "    border-radius: 50%;\n",
              "    cursor: pointer;\n",
              "    display: none;\n",
              "    fill: var(--fill-color);\n",
              "    height: 32px;\n",
              "    padding: 0;\n",
              "    width: 32px;\n",
              "  }\n",
              "\n",
              "  .colab-df-quickchart:hover {\n",
              "    background-color: var(--hover-bg-color);\n",
              "    box-shadow: 0 1px 2px rgba(60, 64, 67, 0.3), 0 1px 3px 1px rgba(60, 64, 67, 0.15);\n",
              "    fill: var(--button-hover-fill-color);\n",
              "  }\n",
              "\n",
              "  .colab-df-quickchart-complete:disabled,\n",
              "  .colab-df-quickchart-complete:disabled:hover {\n",
              "    background-color: var(--disabled-bg-color);\n",
              "    fill: var(--disabled-fill-color);\n",
              "    box-shadow: none;\n",
              "  }\n",
              "\n",
              "  .colab-df-spinner {\n",
              "    border: 2px solid var(--fill-color);\n",
              "    border-color: transparent;\n",
              "    border-bottom-color: var(--fill-color);\n",
              "    animation:\n",
              "      spin 1s steps(1) infinite;\n",
              "  }\n",
              "\n",
              "  @keyframes spin {\n",
              "    0% {\n",
              "      border-color: transparent;\n",
              "      border-bottom-color: var(--fill-color);\n",
              "      border-left-color: var(--fill-color);\n",
              "    }\n",
              "    20% {\n",
              "      border-color: transparent;\n",
              "      border-left-color: var(--fill-color);\n",
              "      border-top-color: var(--fill-color);\n",
              "    }\n",
              "    30% {\n",
              "      border-color: transparent;\n",
              "      border-left-color: var(--fill-color);\n",
              "      border-top-color: var(--fill-color);\n",
              "      border-right-color: var(--fill-color);\n",
              "    }\n",
              "    40% {\n",
              "      border-color: transparent;\n",
              "      border-right-color: var(--fill-color);\n",
              "      border-top-color: var(--fill-color);\n",
              "    }\n",
              "    60% {\n",
              "      border-color: transparent;\n",
              "      border-right-color: var(--fill-color);\n",
              "    }\n",
              "    80% {\n",
              "      border-color: transparent;\n",
              "      border-right-color: var(--fill-color);\n",
              "      border-bottom-color: var(--fill-color);\n",
              "    }\n",
              "    90% {\n",
              "      border-color: transparent;\n",
              "      border-bottom-color: var(--fill-color);\n",
              "    }\n",
              "  }\n",
              "</style>\n",
              "\n",
              "  <script>\n",
              "    async function quickchart(key) {\n",
              "      const quickchartButtonEl =\n",
              "        document.querySelector('#' + key + ' button');\n",
              "      quickchartButtonEl.disabled = true;  // To prevent multiple clicks.\n",
              "      quickchartButtonEl.classList.add('colab-df-spinner');\n",
              "      try {\n",
              "        const charts = await google.colab.kernel.invokeFunction(\n",
              "            'suggestCharts', [key], {});\n",
              "      } catch (error) {\n",
              "        console.error('Error during call to suggestCharts:', error);\n",
              "      }\n",
              "      quickchartButtonEl.classList.remove('colab-df-spinner');\n",
              "      quickchartButtonEl.classList.add('colab-df-quickchart-complete');\n",
              "    }\n",
              "    (() => {\n",
              "      let quickchartButtonEl =\n",
              "        document.querySelector('#df-cee0afa0-442c-4a6c-9c49-5120adb8eca7 button');\n",
              "      quickchartButtonEl.style.display =\n",
              "        google.colab.kernel.accessAllowed ? 'block' : 'none';\n",
              "    })();\n",
              "  </script>\n",
              "</div>\n",
              "\n",
              "    </div>\n",
              "  </div>\n"
            ],
            "application/vnd.google.colaboratory.intrinsic+json": {
              "type": "dataframe",
              "variable_name": "df",
              "summary": "{\n  \"name\": \"df\",\n  \"rows\": 32661,\n  \"fields\": [\n    {\n      \"column\": \"_id\",\n      \"properties\": {\n        \"dtype\": \"string\",\n        \"num_unique_values\": 32661,\n        \"samples\": [\n          \"6782bed12d0eb904ce228811\",\n          \"678b186d37f4819d7e08c5b4\",\n          \"677ea9d0b9ac8fbce012ec5f\"\n        ],\n        \"semantic_type\": \"\",\n        \"description\": \"\"\n      }\n    },\n    {\n      \"column\": \"humidity\",\n      \"properties\": {\n        \"dtype\": \"number\",\n        \"std\": 6.582395567963091,\n        \"min\": 41.0,\n        \"max\": 83.23,\n        \"num_unique_values\": 1966,\n        \"samples\": [\n          76.2,\n          68.02,\n          72.1\n        ],\n        \"semantic_type\": \"\",\n        \"description\": \"\"\n      }\n    },\n    {\n      \"column\": \"temperature\",\n      \"properties\": {\n        \"dtype\": \"number\",\n        \"std\": 1.7898433566561813,\n        \"min\": 22.0,\n        \"max\": 39.49,\n        \"num_unique_values\": 913,\n        \"samples\": [\n          33.59,\n          25.31,\n          33.33\n        ],\n        \"semantic_type\": \"\",\n        \"description\": \"\"\n      }\n    },\n    {\n      \"column\": \"light\",\n      \"properties\": {\n        \"dtype\": \"number\",\n        \"std\": 750.3144047991051,\n        \"min\": 4.15,\n        \"max\": 3385.54,\n        \"num_unique_values\": 23577,\n        \"samples\": [\n          148.54,\n          246.55,\n          1701.57\n        ],\n        \"semantic_type\": \"\",\n        \"description\": \"\"\n      }\n    },\n    {\n      \"column\": \"soilMoisture\",\n      \"properties\": {\n        \"dtype\": \"number\",\n        \"std\": 1449.931973069296,\n        \"min\": 0.0,\n        \"max\": 4095.0,\n        \"num_unique_values\": 30773,\n        \"samples\": [\n          3781.990499431965,\n          194.19786373237403,\n          2963.102667905979\n        ],\n        \"semantic_type\": \"\",\n        \"description\": \"\"\n      }\n    },\n    {\n      \"column\": \"rainVolume\",\n      \"properties\": {\n        \"dtype\": \"number\",\n        \"std\": 1441.251658168516,\n        \"min\": 0.0,\n        \"max\": 4095.0,\n        \"num_unique_values\": 30795,\n        \"samples\": [\n          10.19949724624868,\n          1133.3096436554931,\n          2643.0040394111643\n        ],\n        \"semantic_type\": \"\",\n        \"description\": \"\"\n      }\n    },\n    {\n      \"column\": \"gasVolume\",\n      \"properties\": {\n        \"dtype\": \"number\",\n        \"std\": 274.79866144132683,\n        \"min\": 155.0,\n        \"max\": 2222.0,\n        \"num_unique_values\": 1900,\n        \"samples\": [\n          1892.0,\n          290.0,\n          842.0\n        ],\n        \"semantic_type\": \"\",\n        \"description\": \"\"\n      }\n    },\n    {\n      \"column\": \"fieldId\",\n      \"properties\": {\n        \"dtype\": \"category\",\n        \"num_unique_values\": 1,\n        \"samples\": [\n          \"676d4559c3b9d9d8e1ac5828\"\n        ],\n        \"semantic_type\": \"\",\n        \"description\": \"\"\n      }\n    },\n    {\n      \"column\": \"createdAt\",\n      \"properties\": {\n        \"dtype\": \"object\",\n        \"num_unique_values\": 32661,\n        \"samples\": [\n          \"2025-01-11T18:56:17.337Z\"\n        ],\n        \"semantic_type\": \"\",\n        \"description\": \"\"\n      }\n    },\n    {\n      \"column\": \"updatedAt\",\n      \"properties\": {\n        \"dtype\": \"object\",\n        \"num_unique_values\": 18408,\n        \"samples\": [\n          \"2025-01-13T09:14:17.296Z\"\n        ],\n        \"semantic_type\": \"\",\n        \"description\": \"\"\n      }\n    },\n    {\n      \"column\": \"__v\",\n      \"properties\": {\n        \"dtype\": \"number\",\n        \"std\": 0,\n        \"min\": 0,\n        \"max\": 0,\n        \"num_unique_values\": 1,\n        \"samples\": [\n          0\n        ],\n        \"semantic_type\": \"\",\n        \"description\": \"\"\n      }\n    },\n    {\n      \"column\": \"addedAt\",\n      \"properties\": {\n        \"dtype\": \"object\",\n        \"num_unique_values\": 32661,\n        \"samples\": [\n          \"2025-01-12T01:56:17.336Z\"\n        ],\n        \"semantic_type\": \"\",\n        \"description\": \"\"\n      }\n    },\n    {\n      \"column\": \"plant_health\",\n      \"properties\": {\n        \"dtype\": \"number\",\n        \"std\": 0,\n        \"min\": 0,\n        \"max\": 1,\n        \"num_unique_values\": 2,\n        \"samples\": [\n          0\n        ],\n        \"semantic_type\": \"\",\n        \"description\": \"\"\n      }\n    }\n  ]\n}"
            }
          },
          "metadata": {},
          "execution_count": 23
        }
      ]
    },
    {
      "cell_type": "code",
      "source": [
        "# Filter rows where plant_health == 0\n",
        "filtered_df = df[df[\"plant_health\"] == 0]\n",
        "\n",
        "# Print the result\n",
        "print(filtered_df)"
      ],
      "metadata": {
        "colab": {
          "base_uri": "https://localhost:8080/"
        },
        "id": "h5FYSmv8EWk0",
        "outputId": "d7b860c1-e29e-4890-9437-46fbd3e43fbb"
      },
      "execution_count": 24,
      "outputs": [
        {
          "output_type": "stream",
          "name": "stdout",
          "text": [
            "                            _id  humidity  temperature    light  soilMoisture  \\\n",
            "347    676e1d5760a666999f427022     69.87        30.60  1567.85   4023.085887   \n",
            "348    676e1d9460a666999f427024     69.57        31.20  1800.27   4049.490113   \n",
            "349    676e1dd160a666999f427026     69.63        31.50  1506.63   4026.565961   \n",
            "350    676e1e0f60a666999f427028     69.17        31.37  1660.53   3962.978194   \n",
            "351    676e1e4c60a666999f42702a     69.00        31.32  1566.78   3956.703300   \n",
            "...                         ...       ...          ...      ...           ...   \n",
            "32637  67a92a5437f4819d7e08f54f     66.00        27.44   251.08   4030.295837   \n",
            "32640  67a92b4737f4819d7e08f555     66.00        27.38   243.00   4038.807933   \n",
            "32652  67a92e5937f4819d7e08f56d     66.00        27.46   276.54   4034.237031   \n",
            "32659  67a9303d37f4819d7e08f57b     66.00        27.49   258.56   4026.634874   \n",
            "32674  67a934b937f4819d7e08f599     66.00        27.37   260.92   4010.541098   \n",
            "\n",
            "        rainVolume  gasVolume                   fieldId  \\\n",
            "347    2816.325151      233.0  676d4559c3b9d9d8e1ac5828   \n",
            "348    2717.263146      236.0  676d4559c3b9d9d8e1ac5828   \n",
            "349    2884.041138      236.0  676d4559c3b9d9d8e1ac5828   \n",
            "350    2678.499329      237.0  676d4559c3b9d9d8e1ac5828   \n",
            "351    2834.371952      239.0  676d4559c3b9d9d8e1ac5828   \n",
            "...            ...        ...                       ...   \n",
            "32637  1505.107940     1020.0  676d4559c3b9d9d8e1ac5828   \n",
            "32640  1464.702599     1019.0  676d4559c3b9d9d8e1ac5828   \n",
            "32652  1382.366376     1024.0  676d4559c3b9d9d8e1ac5828   \n",
            "32659  1298.558364     1021.0  676d4559c3b9d9d8e1ac5828   \n",
            "32674  1249.138326     1031.0  676d4559c3b9d9d8e1ac5828   \n",
            "\n",
            "                      createdAt                 updatedAt  __v  \\\n",
            "347    2024-12-27T03:21:59.925Z  2025-01-07T10:04:48.527Z    0   \n",
            "348    2024-12-27T03:23:00.944Z  2025-01-07T10:04:48.527Z    0   \n",
            "349    2024-12-27T03:24:01.914Z  2025-01-07T10:04:48.527Z    0   \n",
            "350    2024-12-27T03:25:03.049Z  2025-01-07T10:04:48.527Z    0   \n",
            "351    2024-12-27T03:26:04.125Z  2025-01-07T10:04:48.527Z    0   \n",
            "...                         ...                       ...  ...   \n",
            "32637  2025-02-09T22:21:08.951Z  2025-02-09T22:21:08.951Z    0   \n",
            "32640  2025-02-09T22:25:11.089Z  2025-02-09T22:25:11.089Z    0   \n",
            "32652  2025-02-09T22:38:17.327Z  2025-02-09T22:38:17.327Z    0   \n",
            "32659  2025-02-09T22:46:21.041Z  2025-02-09T22:46:21.041Z    0   \n",
            "32674  2025-02-09T23:05:29.312Z  2025-02-09T23:05:29.312Z    0   \n",
            "\n",
            "                        addedAt  plant_health  \n",
            "347    2024-12-27T10:21:59.925Z             0  \n",
            "348    2024-12-27T10:23:00.944Z             0  \n",
            "349    2024-12-27T10:24:01.914Z             0  \n",
            "350    2024-12-27T10:25:03.049Z             0  \n",
            "351    2024-12-27T10:26:04.125Z             0  \n",
            "...                         ...           ...  \n",
            "32637  2025-02-10T05:21:08.951Z             0  \n",
            "32640  2025-02-10T05:25:11.089Z             0  \n",
            "32652  2025-02-10T05:38:17.326Z             0  \n",
            "32659  2025-02-10T05:46:21.040Z             0  \n",
            "32674  2025-02-10T06:05:29.311Z             0  \n",
            "\n",
            "[16505 rows x 13 columns]\n"
          ]
        }
      ]
    },
    {
      "cell_type": "code",
      "source": [
        "# -----------------------------\n",
        "# Prepare data for modeling\n",
        "# We drop columns that are not features (like IDs, timestamps, etc.)\n",
        "# Adjust the list of columns to drop as needed.\n",
        "drop_cols = ['_id', 'fieldId', 'createdAt', 'updatedAt', '__v', 'addedAt']\n",
        "# Keep only the relevant features and the target column\n",
        "data = df.drop(columns=drop_cols, errors='ignore')"
      ],
      "metadata": {
        "id": "r7lvMstR_ZIz"
      },
      "execution_count": 25,
      "outputs": []
    },
    {
      "cell_type": "code",
      "source": [
        "# # Separate features (X) and target (y)\n",
        "X = data.drop(columns=['plant_health'])\n",
        "y = data['plant_health']\n",
        "\n",
        "# Split the data into training and testing sets\n",
        "X_train, X_test, y_train, y_test = train_test_split(X, y, test_size=0.2, random_state=42)\n",
        "\n",
        "# # Standardize the features\n",
        "scaler = StandardScaler()\n",
        "X_train_scaled = scaler.fit_transform(X_train)\n",
        "X_test_scaled = scaler.transform(X_test)"
      ],
      "metadata": {
        "id": "sHQRfYvs9CnH"
      },
      "execution_count": 26,
      "outputs": []
    },
    {
      "cell_type": "code",
      "source": [
        "# # Train a RandomForestClassifier\n",
        "# model = RandomForestClassifier(n_estimators=100, random_state=42)\n",
        "# model.fit(X_train_scaled, y_train)\n",
        "\n",
        "\n",
        "# Build a simple neural network\n",
        "model = keras.Sequential([\n",
        "    keras.layers.Dense(16, activation='relu', input_shape=(X_train.shape[1],)),\n",
        "    keras.layers.Dense(8, activation='relu'),\n",
        "    keras.layers.Dense(1, activation='sigmoid')  # Binary classification\n",
        "])\n",
        "\n",
        "model.compile(optimizer='adam', loss='binary_crossentropy', metrics=['accuracy'])\n",
        "\n",
        "# Train the model\n",
        "model.fit(X_train, y_train, epochs=20, batch_size=16, validation_data=(X_test, y_test))"
      ],
      "metadata": {
        "id": "bQd7frLk_fyI",
        "colab": {
          "base_uri": "https://localhost:8080/"
        },
        "outputId": "c9bf2e4a-8927-421a-b105-9bc3661675ba"
      },
      "execution_count": 27,
      "outputs": [
        {
          "output_type": "stream",
          "name": "stdout",
          "text": [
            "Epoch 1/20\n"
          ]
        },
        {
          "output_type": "stream",
          "name": "stderr",
          "text": [
            "/usr/local/lib/python3.11/dist-packages/keras/src/layers/core/dense.py:87: UserWarning: Do not pass an `input_shape`/`input_dim` argument to a layer. When using Sequential models, prefer using an `Input(shape)` object as the first layer in the model instead.\n",
            "  super().__init__(activity_regularizer=activity_regularizer, **kwargs)\n"
          ]
        },
        {
          "output_type": "stream",
          "name": "stdout",
          "text": [
            "\u001b[1m1633/1633\u001b[0m \u001b[32m━━━━━━━━━━━━━━━━━━━━\u001b[0m\u001b[37m\u001b[0m \u001b[1m6s\u001b[0m 3ms/step - accuracy: 0.7141 - loss: 53.2709 - val_accuracy: 0.8330 - val_loss: 1.7589\n",
            "Epoch 2/20\n",
            "\u001b[1m1633/1633\u001b[0m \u001b[32m━━━━━━━━━━━━━━━━━━━━\u001b[0m\u001b[37m\u001b[0m \u001b[1m5s\u001b[0m 3ms/step - accuracy: 0.8349 - loss: 1.0083 - val_accuracy: 0.8785 - val_loss: 0.4725\n",
            "Epoch 3/20\n",
            "\u001b[1m1633/1633\u001b[0m \u001b[32m━━━━━━━━━━━━━━━━━━━━\u001b[0m\u001b[37m\u001b[0m \u001b[1m4s\u001b[0m 2ms/step - accuracy: 0.8613 - loss: 0.5634 - val_accuracy: 0.7947 - val_loss: 0.5508\n",
            "Epoch 4/20\n",
            "\u001b[1m1633/1633\u001b[0m \u001b[32m━━━━━━━━━━━━━━━━━━━━\u001b[0m\u001b[37m\u001b[0m \u001b[1m6s\u001b[0m 3ms/step - accuracy: 0.8531 - loss: 0.5817 - val_accuracy: 0.8779 - val_loss: 0.5186\n",
            "Epoch 5/20\n",
            "\u001b[1m1633/1633\u001b[0m \u001b[32m━━━━━━━━━━━━━━━━━━━━\u001b[0m\u001b[37m\u001b[0m \u001b[1m4s\u001b[0m 2ms/step - accuracy: 0.8563 - loss: 0.5394 - val_accuracy: 0.8749 - val_loss: 0.4941\n",
            "Epoch 6/20\n",
            "\u001b[1m1633/1633\u001b[0m \u001b[32m━━━━━━━━━━━━━━━━━━━━\u001b[0m\u001b[37m\u001b[0m \u001b[1m4s\u001b[0m 2ms/step - accuracy: 0.8647 - loss: 0.4162 - val_accuracy: 0.9036 - val_loss: 0.2870\n",
            "Epoch 7/20\n",
            "\u001b[1m1633/1633\u001b[0m \u001b[32m━━━━━━━━━━━━━━━━━━━━\u001b[0m\u001b[37m\u001b[0m \u001b[1m4s\u001b[0m 3ms/step - accuracy: 0.8546 - loss: 0.5219 - val_accuracy: 0.8935 - val_loss: 0.3062\n",
            "Epoch 8/20\n",
            "\u001b[1m1633/1633\u001b[0m \u001b[32m━━━━━━━━━━━━━━━━━━━━\u001b[0m\u001b[37m\u001b[0m \u001b[1m5s\u001b[0m 2ms/step - accuracy: 0.8571 - loss: 0.4763 - val_accuracy: 0.8658 - val_loss: 0.5757\n",
            "Epoch 9/20\n",
            "\u001b[1m1633/1633\u001b[0m \u001b[32m━━━━━━━━━━━━━━━━━━━━\u001b[0m\u001b[37m\u001b[0m \u001b[1m4s\u001b[0m 2ms/step - accuracy: 0.8724 - loss: 0.3757 - val_accuracy: 0.8936 - val_loss: 0.2949\n",
            "Epoch 10/20\n",
            "\u001b[1m1633/1633\u001b[0m \u001b[32m━━━━━━━━━━━━━━━━━━━━\u001b[0m\u001b[37m\u001b[0m \u001b[1m6s\u001b[0m 3ms/step - accuracy: 0.8714 - loss: 0.3547 - val_accuracy: 0.8794 - val_loss: 0.3400\n",
            "Epoch 11/20\n",
            "\u001b[1m1633/1633\u001b[0m \u001b[32m━━━━━━━━━━━━━━━━━━━━\u001b[0m\u001b[37m\u001b[0m \u001b[1m4s\u001b[0m 2ms/step - accuracy: 0.8695 - loss: 0.3733 - val_accuracy: 0.8638 - val_loss: 0.4887\n",
            "Epoch 12/20\n",
            "\u001b[1m1633/1633\u001b[0m \u001b[32m━━━━━━━━━━━━━━━━━━━━\u001b[0m\u001b[37m\u001b[0m \u001b[1m6s\u001b[0m 3ms/step - accuracy: 0.8725 - loss: 0.3372 - val_accuracy: 0.8769 - val_loss: 0.2896\n",
            "Epoch 13/20\n",
            "\u001b[1m1633/1633\u001b[0m \u001b[32m━━━━━━━━━━━━━━━━━━━━\u001b[0m\u001b[37m\u001b[0m \u001b[1m6s\u001b[0m 3ms/step - accuracy: 0.8792 - loss: 0.3188 - val_accuracy: 0.9007 - val_loss: 0.2374\n",
            "Epoch 14/20\n",
            "\u001b[1m1633/1633\u001b[0m \u001b[32m━━━━━━━━━━━━━━━━━━━━\u001b[0m\u001b[37m\u001b[0m \u001b[1m4s\u001b[0m 2ms/step - accuracy: 0.8766 - loss: 0.3167 - val_accuracy: 0.8883 - val_loss: 0.3298\n",
            "Epoch 15/20\n",
            "\u001b[1m1633/1633\u001b[0m \u001b[32m━━━━━━━━━━━━━━━━━━━━\u001b[0m\u001b[37m\u001b[0m \u001b[1m6s\u001b[0m 3ms/step - accuracy: 0.8806 - loss: 0.2968 - val_accuracy: 0.8783 - val_loss: 0.3380\n",
            "Epoch 16/20\n",
            "\u001b[1m1633/1633\u001b[0m \u001b[32m━━━━━━━━━━━━━━━━━━━━\u001b[0m\u001b[37m\u001b[0m \u001b[1m5s\u001b[0m 3ms/step - accuracy: 0.8749 - loss: 0.3173 - val_accuracy: 0.8665 - val_loss: 0.3122\n",
            "Epoch 17/20\n",
            "\u001b[1m1633/1633\u001b[0m \u001b[32m━━━━━━━━━━━━━━━━━━━━\u001b[0m\u001b[37m\u001b[0m \u001b[1m4s\u001b[0m 2ms/step - accuracy: 0.8860 - loss: 0.2705 - val_accuracy: 0.8857 - val_loss: 0.2730\n",
            "Epoch 18/20\n",
            "\u001b[1m1633/1633\u001b[0m \u001b[32m━━━━━━━━━━━━━━━━━━━━\u001b[0m\u001b[37m\u001b[0m \u001b[1m4s\u001b[0m 2ms/step - accuracy: 0.8880 - loss: 0.2762 - val_accuracy: 0.9094 - val_loss: 0.2339\n",
            "Epoch 19/20\n",
            "\u001b[1m1633/1633\u001b[0m \u001b[32m━━━━━━━━━━━━━━━━━━━━\u001b[0m\u001b[37m\u001b[0m \u001b[1m6s\u001b[0m 3ms/step - accuracy: 0.8822 - loss: 0.2827 - val_accuracy: 0.8941 - val_loss: 0.2595\n",
            "Epoch 20/20\n",
            "\u001b[1m1633/1633\u001b[0m \u001b[32m━━━━━━━━━━━━━━━━━━━━\u001b[0m\u001b[37m\u001b[0m \u001b[1m8s\u001b[0m 2ms/step - accuracy: 0.8923 - loss: 0.2672 - val_accuracy: 0.8948 - val_loss: 0.2366\n"
          ]
        },
        {
          "output_type": "execute_result",
          "data": {
            "text/plain": [
              "<keras.src.callbacks.history.History at 0x7b926c483b10>"
            ]
          },
          "metadata": {},
          "execution_count": 27
        }
      ]
    },
    {
      "cell_type": "code",
      "source": [
        "# Make predictions on the test set\n",
        "y_pred = model.predict(X_test_scaled)"
      ],
      "metadata": {
        "id": "3TSWYCiT_205",
        "colab": {
          "base_uri": "https://localhost:8080/"
        },
        "outputId": "517ea9cc-96ad-47a8-d249-1ae166feb75b"
      },
      "execution_count": 28,
      "outputs": [
        {
          "output_type": "stream",
          "name": "stdout",
          "text": [
            "\u001b[1m205/205\u001b[0m \u001b[32m━━━━━━━━━━━━━━━━━━━━\u001b[0m\u001b[37m\u001b[0m \u001b[1m0s\u001b[0m 1ms/step\n"
          ]
        }
      ]
    },
    {
      "cell_type": "code",
      "source": [
        "model.save('health_model.keras')"
      ],
      "metadata": {
        "id": "038A6Vfe0mnC"
      },
      "execution_count": 29,
      "outputs": []
    },
    {
      "cell_type": "code",
      "source": [
        "# Convert model to TFLite format\n",
        "converter = tf.lite.TFLiteConverter.from_keras_model(model)\n",
        "tflite_model = converter.convert()\n",
        "\n",
        "# Save the TFLite model\n",
        "with open(\"health_model.tflite\", \"wb\") as f:\n",
        "    f.write(tflite_model)"
      ],
      "metadata": {
        "colab": {
          "base_uri": "https://localhost:8080/"
        },
        "id": "vD5BqilF0unN",
        "outputId": "f23be8f3-53b1-4aa7-fbb3-828e0c7ea497"
      },
      "execution_count": 30,
      "outputs": [
        {
          "output_type": "stream",
          "name": "stdout",
          "text": [
            "Saved artifact at '/tmp/tmpph6dgx40'. The following endpoints are available:\n",
            "\n",
            "* Endpoint 'serve'\n",
            "  args_0 (POSITIONAL_ONLY): TensorSpec(shape=(None, 6), dtype=tf.float32, name='keras_tensor')\n",
            "Output Type:\n",
            "  TensorSpec(shape=(None, 1), dtype=tf.float32, name=None)\n",
            "Captures:\n",
            "  135868823161744: TensorSpec(shape=(), dtype=tf.resource, name=None)\n",
            "  135868823160400: TensorSpec(shape=(), dtype=tf.resource, name=None)\n",
            "  135868793292368: TensorSpec(shape=(), dtype=tf.resource, name=None)\n",
            "  135868793291984: TensorSpec(shape=(), dtype=tf.resource, name=None)\n",
            "  135868793294288: TensorSpec(shape=(), dtype=tf.resource, name=None)\n",
            "  135868793294096: TensorSpec(shape=(), dtype=tf.resource, name=None)\n"
          ]
        }
      ]
    },
    {
      "cell_type": "code",
      "source": [
        "# # Evaluate the model\n",
        "# accuracy = accuracy_score(y_test, y_pred)\n",
        "# print(f'Accuracy: {accuracy:.2f}')\n",
        "# print(\"\\nClassification Report:\")\n",
        "# print(classification_report(y_test, y_pred))\n",
        "\n",
        "loss, accuracy = model.evaluate(X_test, y_test)\n",
        "print(f\"Test Loss: {loss:.4f}\")\n",
        "print(f\"Test Accuracy: {accuracy:.4f}\")"
      ],
      "metadata": {
        "colab": {
          "base_uri": "https://localhost:8080/"
        },
        "id": "qOhjtBbD_58V",
        "outputId": "199ea9cf-763c-41a4-ae41-2e4471780843"
      },
      "execution_count": 31,
      "outputs": [
        {
          "output_type": "stream",
          "name": "stdout",
          "text": [
            "\u001b[1m205/205\u001b[0m \u001b[32m━━━━━━━━━━━━━━━━━━━━\u001b[0m\u001b[37m\u001b[0m \u001b[1m1s\u001b[0m 3ms/step - accuracy: 0.8975 - loss: 0.2294\n",
            "Test Loss: 0.2366\n",
            "Test Accuracy: 0.8948\n"
          ]
        }
      ]
    },
    {
      "cell_type": "code",
      "source": [
        "# # Plot feature importance\n",
        "# feature_importances = pd.Series(model.feature_importances_, index=X.columns)\n",
        "# plt.figure(figsize=(8, 6))\n",
        "# feature_importances.sort_values(ascending=False).plot(kind='bar')\n",
        "# plt.title('Feature Importance')\n",
        "# plt.ylabel('Importance Score')\n",
        "# plt.show()\n",
        "# Ensure the number of features matches\n",
        "feature_names = list(X_test.columns)  # Extract feature names dynamically\n",
        "\n",
        "# Create an explainer\n",
        "explainer = shap.Explainer(model, X_test)\n",
        "\n",
        "# Compute SHAP values\n",
        "shap_values = explainer(X_test)\n",
        "\n",
        "# Plot feature importance\n",
        "shap.summary_plot(shap_values, X_test, feature_names=feature_names)"
      ],
      "metadata": {
        "colab": {
          "base_uri": "https://localhost:8080/",
          "height": 414
        },
        "id": "OeW0sUX0_82n",
        "outputId": "fc63402c-36d8-40be-ae4d-376e22aba451"
      },
      "execution_count": 32,
      "outputs": [
        {
          "output_type": "stream",
          "name": "stderr",
          "text": [
            "ExactExplainer explainer: 6534it [01:36, 67.54it/s]                          \n"
          ]
        },
        {
          "output_type": "display_data",
          "data": {
            "text/plain": [
              "<Figure size 800x390 with 2 Axes>"
            ],
            "image/png": "[encoded data removed]"
          },
          "metadata": {}
        }
      ]
    },
    {
      "cell_type": "code",
      "source": [
        "# Define a new sample for testing\n",
        "new_sample = {\n",
        "    'humidity': [74.00],        # Lowered slightly\n",
        "    'temperature': [29.42],     # More optimal temperature\n",
        "    'light': [1500.15],         # Increased light exposure\n",
        "    'soilMoisture': [2500],  # Balanced soil moisture\n",
        "    'rainVolume': [4095.0],    # Reduced excessive rain\n",
        "    'gasVolume': [200.0]       # Lower gas pollution\n",
        "}\n",
        "# Convert to DataFrame\n",
        "new_data = pd.DataFrame(new_sample)\n",
        "\n",
        "# Scale the new data\n",
        "new_data_scaled = scaler.transform(new_data)\n",
        "\n",
        "# Reshape if needed for model input\n",
        "new_data_scaled = np.array(new_data_scaled)"
      ],
      "metadata": {
        "id": "t8XSkS3oAMC-"
      },
      "execution_count": 33,
      "outputs": []
    },
    {
      "cell_type": "code",
      "source": [
        "# Use the trained model to predict plant health\n",
        "prediction = model.predict(new_data_scaled)\n",
        "\n",
        "# Convert to binary classification (assuming threshold 0.5)\n",
        "predicted_class = (prediction[0] > 0.5).astype(int)\n",
        "\n",
        "# Print the result\n",
        "print(\"Raw Prediction:\", prediction[0])\n",
        "print(\"Prediction (0: not healthy, 1: healthy):\", predicted_class)"
      ],
      "metadata": {
        "colab": {
          "base_uri": "https://localhost:8080/"
        },
        "id": "8zXwtTf-35i8",
        "outputId": "af9f5f07-41d7-4d85-ae79-49cafc36af39"
      },
      "execution_count": 34,
      "outputs": [
        {
          "output_type": "stream",
          "name": "stdout",
          "text": [
            "\u001b[1m1/1\u001b[0m \u001b[32m━━━━━━━━━━━━━━━━━━━━\u001b[0m\u001b[37m\u001b[0m \u001b[1m0s\u001b[0m 63ms/step\n",
            "Raw Prediction: [0.40094483]\n",
            "Prediction (0: not healthy, 1: healthy): [0]\n"
          ]
        }
      ]
    },
    {
      "cell_type": "code",
      "source": [
        "import pickle"
      ],
      "metadata": {
        "id": "1S4YoHSA3PdY"
      },
      "execution_count": 35,
      "outputs": []
    },
    {
      "cell_type": "code",
      "source": [
        "with open(\"predict_health_model.pkl\", \"wb\") as f:\n",
        "    pickle.dump(model, f)"
      ],
      "metadata": {
        "id": "TB6MR6a43RmJ"
      },
      "execution_count": 36,
      "outputs": []
    },
    {
      "cell_type": "code",
      "source": [
        "with open(\"scaler_predict_health_model.pkl\", \"wb\") as f:\n",
        "    pickle.dump(scaler, f)"
      ],
      "metadata": {
        "id": "MNx4mezx3Txi"
      },
      "execution_count": 37,
      "outputs": []
    },
    {
      "cell_type": "code",
      "source": [
        "df.to_csv(\"output.csv\", index=False)"
      ],
      "metadata": {
        "id": "jahRKbmFBu6Y"
      },
      "execution_count": 38,
      "outputs": []
    }
  ]
}